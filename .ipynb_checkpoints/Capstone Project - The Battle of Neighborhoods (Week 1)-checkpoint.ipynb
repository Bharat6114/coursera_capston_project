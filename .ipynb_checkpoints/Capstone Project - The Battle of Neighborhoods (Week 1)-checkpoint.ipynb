{
 "cells": [
  {
   "cell_type": "markdown",
   "metadata": {},
   "source": [
    "# 1-INTRODUCTION/BUSINESS PROBLEM"
   ]
  },
  {
   "cell_type": "markdown",
   "metadata": {},
   "source": [
    "Toronto is the capital city of the Canadian province of Ontario with population 2.7 Million. It is the most populous city in Canada and the fourth most populous city in North America.People have travelled through and inhabited the Toronto area, located on a broad sloping plateau interspersed with rivers, deep ravines, and urban forest, for more than 10,000 years. Now, Toronto is an international centre of business, finance, arts, and culture, and is recognized as one of the most multicultural and cosmopolitan cities in the world. Some neighbourhoods are Old Toronto, Downtown Core (Central), East End, North End, West End, East York, Etobicoke, North York, Scarborough, York.\n",
    "NYC is New York City is often called just New York is the most populous city in the United States. It's population is 8.3 Million. Just like toronoto it is filled with people of different nationalities and it is a multicultural city. The five boroughs—Brooklyn, Queens, Manhattan, the Bronx, and Staten Island—were consolidated into a single city in 1898. Some neighbourhoods are Central Bronx, Central Brooklyn, Borough Park, Flatbush, Greenpoint, East Harlem, Upper West Side, Jamaica, Rockaways, West Queens.\n",
    "\n",
    "Problem Statement\n",
    "Toronto and NYC are top cities for tourism in the world. The tourism characteristics should be compared in this project. This study or project should be able to use restruant, museums, gallaries for comparision.\n",
    "Thus this project should be able to help business people who are trying to select a good neighbourhood for open restuarants.\n",
    "Scope of Study\n",
    "In case of Toronto, the entire city area is taken for study. For NYC, some neighbourhoods in the study are Central Bronx, Central Brooklyn, Borough Park, Flatbush, Greenpoint, East Harlem, Upper West Side, Jamaica, Rockaways, West Queens."
   ]
  },
  {
   "cell_type": "markdown",
   "metadata": {},
   "source": [
    "# 2-DATA"
   ]
  },
  {
   "cell_type": "markdown",
   "metadata": {},
   "source": [
    "The number of restaurants, museums, galleries in Toronto and NYC are compared. The data sources that explain the postal codes and corresponding neighborhoods/ boroughs/ districts of the two locations of interest are extracted from 'https://en.wikipedia.org/wiki/List_of_postal_codes_of_Canada:_M' (Toronto, Ontario). \n",
    "The postal codes for neighbourhoods in NYC are obtained via 'https://www.health.ny.gov/statistics/cancer/registry/appendix/neighborhoods.htm'\n",
    "The coordinates of the postal codes based on the district/ borough/ neoghbourhood of both locations are extracted via 'http://cocl.us/Geospatial_data' (Toronto, Ontario).\n",
    "The geospatial data, numbers and other detials of the restaurants, museums and galleries of both location of interest are extracted via Foursquare API."
   ]
  }
 ],
 "metadata": {
  "kernelspec": {
   "display_name": "Python 3",
   "language": "python",
   "name": "python3"
  },
  "language_info": {
   "codemirror_mode": {
    "name": "ipython",
    "version": 3
   },
   "file_extension": ".py",
   "mimetype": "text/x-python",
   "name": "python",
   "nbconvert_exporter": "python",
   "pygments_lexer": "ipython3",
   "version": "3.8.3"
  }
 },
 "nbformat": 4,
 "nbformat_minor": 4
}
