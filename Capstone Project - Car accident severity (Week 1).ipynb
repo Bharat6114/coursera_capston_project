{
 "cells": [
  {
   "cell_type": "markdown",
   "metadata": {},
   "source": [
    "# 1-INTRODUCTION/BUSINESS PROBLEM"
   ]
  },
  {
   "cell_type": "markdown",
   "metadata": {},
   "source": [
    "Road accident is most unwanted thing to happen to a road user, though they happen quite often.\n",
    "The most unfortunate thing is that we don't learn from our mistakes on road.\n",
    "Most of the road users are quite well aware of the general rules and safety\n",
    "measures while using roads but it is only the laxity on part of road users,\n",
    "which cause accidents and crashes. Main cause of accidents and crashes are \n",
    "due to human errors. We are elaborating some of the common behaviour of humans which results in accident.\n",
    "\n",
    "1.Over Speeding\n",
    "\n",
    "2.Drunken Driving\n",
    "\n",
    "3.Distractions to Driver\n",
    "\n",
    "4.Red Light Jumping\n",
    "\n",
    "5.Avoiding Safety Gears like Seat belts and Helmets\n",
    "\n",
    "6.Non-adherence to lane driving and overtaking in a wrong manner\n",
    "\n",
    "Various national and international researches have found these as most common behavior of Road drivers,\n",
    "which leads to accidents.Aslo other factor such as road condition,weather,junction types etc cause road accidents.\n",
    "so i just want to find out which factor cause more accident and what can we do to avoid such factor to reduced road accident\n",
    "specially(car accident).After completion of this project i can suggest prevention method for road accident and form which many people can get knowledge of how we can reduced road accidents.\n",
    "For analysis of data i want to use following python library and some machine learning algorithms.\n",
    "1-Pandas\n",
    "2-Matplotlib ect."
   ]
  },
  {
   "cell_type": "markdown",
   "metadata": {},
   "source": [
    "# 2-DATA"
   ]
  },
  {
   "cell_type": "markdown",
   "metadata": {},
   "source": [
    "In this project i want to use data provided by coursera in the example as my data source to complete my project.link is as bellow\n",
    "\n",
    "Data :https://www.coursera.org/learn/applied-data-science-capstone/supplement/Nh5uS/downloading-example-dataset"
   ]
  }
 ],
 "metadata": {
  "kernelspec": {
   "display_name": "Python 3",
   "language": "python",
   "name": "python3"
  },
  "language_info": {
   "codemirror_mode": {
    "name": "ipython",
    "version": 3
   },
   "file_extension": ".py",
   "mimetype": "text/x-python",
   "name": "python",
   "nbconvert_exporter": "python",
   "pygments_lexer": "ipython3",
   "version": "3.8.3"
  }
 },
 "nbformat": 4,
 "nbformat_minor": 4
}
